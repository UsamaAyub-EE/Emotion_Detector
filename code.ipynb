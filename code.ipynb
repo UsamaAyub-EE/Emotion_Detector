#Feature Extraction
from google.colab import drive
drive._mount('/content/drive')
import pandas as pd
import os
import librosa
import soundfile
import librosa.display
from sklearn.preprocessing import StandardScaler
import os, glob, pickle
import numpy as np
import IPython.display as ipd
import matplotlib.pyplot as plt
%matplotlib inline
def features_extractor(file_name, mfcc, chroma, mel):
    with soundfile.SoundFile(file_name) as sound_file:
        X = sound_file.read(dtype="float32")
        sample_rate=sound_file.samplerate
        if chroma:
            stft=np.abs(librosa.stft(X))
        result=np.array([])
        if mfcc:
            mfccs=np.mean(librosa.feature.mfcc(y=X, sr=sample_rate, n_mfcc=40).T, axis=0)
            result=np.hstack((result, mfccs))
        if chroma:
            chroma=np.mean(librosa.feature.chroma_stft(S=stft, sr=sample_rate).T,axis=0)
            result=np.hstack((result, chroma))
        if mel:
            mel=np.mean(librosa.feature.melspectrogram(X, sr=sample_rate).T,axis=0)
            result=np.hstack((result, mel))
    return result    
extracted_features=[]
directory = '/content/drive/MyDrive/G-32/Sentences_CEP/Angry'
for filename in os.listdir(directory):
    FILENAME  = os.path.join(directory, filename)
    final_class_labels="angry"
    data=features_extractor(FILENAME, mfcc=True, chroma=True, mel=True)
    extracted_features.append([data,final_class_labels])
directory = '/content/drive/MyDrive/G-32/Sentences_CEP/Happy'
for filename in os.listdir(directory):
    FILENAME  = os.path.join(directory, filename)
    final_class_labels="happy"
    data=features_extractor(FILENAME, mfcc=True, chroma=True, mel=True)
    extracted_features.append([data,final_class_labels])
directory = '/content/drive/MyDrive/G-32/Sentences_CEP/Sad'
for filename in os.listdir(directory):
    FILENAME  = os.path.join(directory, filename)
    final_class_labels="sad"
    data=features_extractor(FILENAME, mfcc=True, chroma=True, mel=True)
    extracted_features.append([data,final_class_labels])
directory = '/content/drive/MyDrive/G-32/Sentences_CEP/Neutral'
for filename in os.listdir(directory):
    FILENAME  = os.path.join(directory, filename)
    final_class_labels="neutral"
    data=features_extractor(FILENAME, mfcc=True, chroma=True, mel=True)
    extracted_features.append([data,final_class_labels])
extracted_features_df=pd.DataFrame(extracted_features,columns=['feature','class'])
#extracted_features_df.head(10)
X=np.array(extracted_features_df['feature'].tolist())
y=np.array(extracted_features_df['class'].tolist())
from tensorflow.keras.utils import to_categorical
from sklearn.preprocessing import LabelEncoder
labelencoder=LabelEncoder()
y=to_categorical(labelencoder.fit_transform(y))
#ANN
from sklearn.model_selection import train_test_split
X_train,X_test,y_train,y_test=train_test_split(X,y,test_size=0.3,random_state=19)
import tensorflow as tf
from tensorflow.keras.models import Sequential
from tensorflow.keras.layers import Dense,Dropout,Activation,Flatten
from tensorflow.keras.optimizers import Adam
from sklearn import metrics
model = tf.keras.models.Sequential()
#Adding First Hidden Layer
model.add(tf.keras.layers.Dense(units=1000,activation="relu"))
#Adding Second Hidden Layer
model.add(tf.keras.layers.Dense(units=800,activation="relu"))
#Adding Third Hidden Layer
model.add(tf.keras.layers.Dense(units=500,activation="relu"))
#Adding Output Layer
model.add(tf.keras.layers.Dense(units=4,activation="softmax"))
model.compile(loss='categorical_crossentropy',metrics=['accuracy'],optimizer='adam')
from tensorflow.keras.callbacks import ModelCheckpoint
from datetime import datetime 

num_epochs = 100
num_batch_size = 32

checkpointer = ModelCheckpoint(filepath='saved_models/audio_classification.hdf5', 
                               verbose=1, save_best_only=True)
start = datetime.now()


model.fit(X_train,y_train,batch_size=num_batch_size,epochs=num_epochs)
#model.fit(X_train, y_train, batch_size=num_batch_size, epochs=num_epochs, validation_data=(X_test, y_test), callbacks=[checkpointer], verbose=1)


duration = datetime.now() - start
print("Training completed for ANN in time: ", duration)
test_accuracy=model.evaluate(X_test,y_test,verbose=0)
print("Accuracy on test set for ANN is ",test_accuracy[1])
y_pred = model.predict(X_test)
from sklearn.metrics import classification_report, confusion_matrix, accuracy_score
print('Confusion matrix for ANN\n',confusion_matrix(y_test.argmax(axis=1), y_pred.argmax(axis=1)))
